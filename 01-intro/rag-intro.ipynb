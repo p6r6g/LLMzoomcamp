{
 "cells": [
  {
   "cell_type": "markdown",
   "id": "c885479c-357d-4b65-886a-502af98c597d",
   "metadata": {},
   "source": [
    "MODULE 1.1:\n",
    "\n",
    "Introduction to LLM, RAG and how RAG assists LLM"
   ]
  },
  {
   "cell_type": "markdown",
   "id": "549bc6fe-3fe9-42a1-8ca3-c3aa2361e00c",
   "metadata": {},
   "source": [
    "MODULE 1.2:\n",
    "\n",
    "Configuring the environment"
   ]
  },
  {
   "cell_type": "markdown",
   "id": "f6d28fa9-c741-4a1e-aace-8dc5f587e768",
   "metadata": {},
   "source": [
    "MODULE 1.3: \n",
    "\n",
    "Retrieval & Search"
   ]
  },
  {
   "cell_type": "code",
   "execution_count": 2,
   "id": "2d773905-03d5-4efb-a420-bef644dc5da3",
   "metadata": {
    "scrolled": true
   },
   "outputs": [],
   "source": [
    "# !wget https://raw.githubusercontent.com/alexeygrigorev/minsearch/refs/heads/main/minsearch.py\n",
    "\n",
    "# dont need to wget the file as minsearch has been installed using pip in terminal. so now, the repitive minsearch.py files can be deleted from the repo."
   ]
  },
  {
   "cell_type": "code",
   "execution_count": 3,
   "id": "31edf4e2-17e8-4c93-94d3-c7bb4284332d",
   "metadata": {},
   "outputs": [],
   "source": [
    "import minsearch"
   ]
  },
  {
   "cell_type": "code",
   "execution_count": 4,
   "id": "93dff8f9-e4d3-481d-95e2-4ddf39edc121",
   "metadata": {},
   "outputs": [],
   "source": [
    "import json"
   ]
  },
  {
   "cell_type": "code",
   "execution_count": 5,
   "id": "faebdc32-449a-4aa9-9a26-d66d17be800d",
   "metadata": {},
   "outputs": [],
   "source": [
    "with open('documents.json','rt') as f_in:\n",
    "    docs_raw = json.load(f_in)"
   ]
  },
  {
   "cell_type": "code",
   "execution_count": 6,
   "id": "ab1706e0-bdc8-4970-b433-e3a6ec4f04f4",
   "metadata": {
    "scrolled": true
   },
   "outputs": [],
   "source": [
    "#docs_raw\n",
    "\n",
    "# will print the whole document if uncommented. it's really really loooooooooooong."
   ]
  },
  {
   "cell_type": "code",
   "execution_count": 7,
   "id": "cbdd0894-ef9f-4a11-8d14-f4e0cf2b1aeb",
   "metadata": {},
   "outputs": [],
   "source": [
    "# Flattening nested documents from multiple courses into a single list.\n",
    "# Adding a 'course' field to each document to retain its source course label.\n",
    "\n",
    "documents = []\n",
    "\n",
    "for course_dict in docs_raw:\n",
    "    for doc in course_dict['documents']:\n",
    "        doc['course'] = course_dict['course']\n",
    "        documents.append(doc)\n",
    "    "
   ]
  },
  {
   "cell_type": "code",
   "execution_count": 8,
   "id": "09a46923-d635-4864-af7e-9bd4c0889bca",
   "metadata": {},
   "outputs": [
    {
     "data": {
      "text/plain": [
       "{'text': \"The purpose of this document is to capture frequently asked technical questions\\nThe exact day and hour of the course will be 15th Jan 2024 at 17h00. The course will start with the first  “Office Hours'' live.1\\nSubscribe to course public Google Calendar (it works from Desktop only).\\nRegister before the course starts using this link.\\nJoin the course Telegram channel with announcements.\\nDon’t forget to register in DataTalks.Club's Slack and join the channel.\",\n",
       " 'section': 'General course-related questions',\n",
       " 'question': 'Course - When will the course start?',\n",
       " 'course': 'data-engineering-zoomcamp'}"
      ]
     },
     "execution_count": 8,
     "metadata": {},
     "output_type": "execute_result"
    }
   ],
   "source": [
    "documents[0]"
   ]
  },
  {
   "cell_type": "code",
   "execution_count": 9,
   "id": "8154f68c-1b70-4338-9a22-18a5a163f64b",
   "metadata": {},
   "outputs": [],
   "source": [
    "# index is for easy search\n",
    "\n",
    "index = minsearch.Index(\n",
    "    text_fields = ['question','text','section'],\n",
    "    keyword_fields = ['course']\n",
    ")"
   ]
  },
  {
   "cell_type": "code",
   "execution_count": 10,
   "id": "0bcda647-0184-4e95-aa57-dd35a4d98282",
   "metadata": {},
   "outputs": [],
   "source": [
    "q = \"the course has already started, can i still enroll?\""
   ]
  },
  {
   "cell_type": "code",
   "execution_count": 11,
   "id": "1e7d2df0-ea51-480f-9c2a-969ee4b57f5e",
   "metadata": {},
   "outputs": [
    {
     "data": {
      "text/plain": [
       "<minsearch.Index at 0x75b60b454e00>"
      ]
     },
     "execution_count": 11,
     "metadata": {},
     "output_type": "execute_result"
    }
   ],
   "source": [
    "# fitting the model using scikit-learn to make it search-efficient as the data is now linked through knowledge-graphs, just like in ML.\n",
    "index.fit(documents)"
   ]
  },
  {
   "cell_type": "code",
   "execution_count": 12,
   "id": "68e2e527-467b-4b2c-8340-2d85916a2992",
   "metadata": {},
   "outputs": [],
   "source": [
    "# boost allows to put importance manually. 1 is default. 3 is 3 times more important than any field of 1 importance.\n",
    "boost = {'question' : 3.0, 'section' : 0.5}\n",
    "\n",
    "# results is storing the indexed output of the search function.\n",
    "results = index.search(\n",
    "    query = q,\n",
    "    filter_dict = {'course' : 'data-engineering-zoomcamp'},  # filter_dict allows to apply a filter - here filtering the answers from the DE course only, ignoring the other courses in the document.\n",
    "    boost_dict = boost\n",
    ")"
   ]
  },
  {
   "cell_type": "code",
   "execution_count": 13,
   "id": "93e897b4-ff38-467a-8113-7a7f2e4847d1",
   "metadata": {
    "scrolled": true
   },
   "outputs": [
    {
     "data": {
      "text/plain": [
       "[{'text': \"Yes, even if you don't register, you're still eligible to submit the homeworks.\\nBe aware, however, that there will be deadlines for turning in the final projects. So don't leave everything for the last minute.\",\n",
       "  'section': 'General course-related questions',\n",
       "  'question': 'Course - Can I still join the course after the start date?',\n",
       "  'course': 'data-engineering-zoomcamp'},\n",
       " {'text': 'Yes, we will keep all the materials after the course finishes, so you can follow the course at your own pace after it finishes.\\nYou can also continue looking at the homeworks and continue preparing for the next cohort. I guess you can also start working on your final capstone project.',\n",
       "  'section': 'General course-related questions',\n",
       "  'question': 'Course - Can I follow the course after it finishes?',\n",
       "  'course': 'data-engineering-zoomcamp'},\n",
       " {'text': \"The purpose of this document is to capture frequently asked technical questions\\nThe exact day and hour of the course will be 15th Jan 2024 at 17h00. The course will start with the first  “Office Hours'' live.1\\nSubscribe to course public Google Calendar (it works from Desktop only).\\nRegister before the course starts using this link.\\nJoin the course Telegram channel with announcements.\\nDon’t forget to register in DataTalks.Club's Slack and join the channel.\",\n",
       "  'section': 'General course-related questions',\n",
       "  'question': 'Course - When will the course start?',\n",
       "  'course': 'data-engineering-zoomcamp'},\n",
       " {'text': 'You can start by installing and setting up all the dependencies and requirements:\\nGoogle cloud account\\nGoogle Cloud SDK\\nPython 3 (installed with Anaconda)\\nTerraform\\nGit\\nLook over the prerequisites and syllabus to see if you are comfortable with these subjects.',\n",
       "  'section': 'General course-related questions',\n",
       "  'question': 'Course - What can I do before the course starts?',\n",
       "  'course': 'data-engineering-zoomcamp'},\n",
       " {'text': 'Yes, the slack channel remains open and you can ask questions there. But always sDocker containers exit code w search the channel first and second, check the FAQ (this document), most likely all your questions are already answered here.\\nYou can also tag the bot @ZoomcampQABot to help you conduct the search, but don’t rely on its answers 100%, it is pretty good though.',\n",
       "  'section': 'General course-related questions',\n",
       "  'question': 'Course - Can I get support if I take the course in the self-paced mode?',\n",
       "  'course': 'data-engineering-zoomcamp'},\n",
       " {'text': 'Star the repo! Share it with friends if you find it useful ❣️\\nCreate a PR if you see you can improve the text or the structure of the repository.',\n",
       "  'section': 'General course-related questions',\n",
       "  'question': 'How can we contribute to the course?',\n",
       "  'course': 'data-engineering-zoomcamp'},\n",
       " {'text': 'GitHub - DataTalksClub data-engineering-zoomcamp#prerequisites',\n",
       "  'section': 'General course-related questions',\n",
       "  'question': 'Course - What are the prerequisites for this course?',\n",
       "  'course': 'data-engineering-zoomcamp'},\n",
       " {'text': \"No, you can only get a certificate if you finish the course with a “live” cohort. We don't award certificates for the self-paced mode. The reason is you need to peer-review capstone(s) after submitting a project. You can only peer-review projects at the time the course is running.\",\n",
       "  'section': 'General course-related questions',\n",
       "  'question': 'Certificate - Can I follow the course in a self-paced mode and get a certificate?',\n",
       "  'course': 'data-engineering-zoomcamp'},\n",
       " {'text': 'Yes, for simplicity (of troubleshooting against the recorded videos) and stability. [source]\\nBut Python 3.10 and 3.11 should work fine.',\n",
       "  'section': 'General course-related questions',\n",
       "  'question': 'Environment - Is Python 3.9 still the recommended version to use in 2024?',\n",
       "  'course': 'data-engineering-zoomcamp'},\n",
       " {'text': \"You don't need it. You're accepted. You can also just start learning and submitting homework without registering. It is not checked against any registered list. Registration is just to gauge interest before the start date.\",\n",
       "  'section': 'General course-related questions',\n",
       "  'question': 'Course - I have registered for the Data Engineering Bootcamp. When can I expect to receive the confirmation email?',\n",
       "  'course': 'data-engineering-zoomcamp'}]"
      ]
     },
     "execution_count": 13,
     "metadata": {},
     "output_type": "execute_result"
    }
   ],
   "source": [
    "results"
   ]
  },
  {
   "cell_type": "markdown",
   "id": "ee75a708-3d14-4b8c-a964-8495840bddfd",
   "metadata": {},
   "source": [
    "answer is retrieved throught the search function. till now, no llm has been used."
   ]
  },
  {
   "cell_type": "markdown",
   "id": "d1ad9551-23c5-496c-9b4e-eec7f8496ac9",
   "metadata": {},
   "source": [
    "MODULE 1.4:\n",
    "\n",
    "Generating answers with Google Gemini 1.5 Flash Latest "
   ]
  },
  {
   "cell_type": "code",
   "execution_count": 14,
   "id": "9ce04db7-c037-4b74-aaa9-ce1eb2323fea",
   "metadata": {},
   "outputs": [],
   "source": [
    "import google.generativeai as genai"
   ]
  },
  {
   "cell_type": "code",
   "execution_count": 15,
   "id": "18c0a313-0edb-45ef-91d0-b218ac48f5b5",
   "metadata": {},
   "outputs": [],
   "source": [
    "import os\n",
    "api_key = os.environ.get(\"GOOGLE_API_KEY\")"
   ]
  },
  {
   "cell_type": "code",
   "execution_count": 16,
   "id": "fdd54a3e-4d64-46d3-8aa6-be5d30f6c10e",
   "metadata": {},
   "outputs": [],
   "source": [
    "genai.configure(api_key = api_key)"
   ]
  },
  {
   "cell_type": "code",
   "execution_count": 17,
   "id": "177c8df0-89aa-4cf3-8f90-7cc1f2613324",
   "metadata": {},
   "outputs": [],
   "source": [
    "client = genai.GenerativeModel('gemini-1.5-flash-latest')\n",
    "response = client.generate_content(contents = q)"
   ]
  },
  {
   "cell_type": "code",
   "execution_count": 18,
   "id": "8e57ccc4-5971-4e2f-b343-c52994f80bbe",
   "metadata": {},
   "outputs": [
    {
     "data": {
      "text/plain": [
       "'the course has already started, can i still enroll?'"
      ]
     },
     "execution_count": 18,
     "metadata": {},
     "output_type": "execute_result"
    }
   ],
   "source": [
    "q"
   ]
  },
  {
   "cell_type": "code",
   "execution_count": 19,
   "id": "8a90fa7a-87c8-4c69-a65b-b2f3c5ade195",
   "metadata": {},
   "outputs": [
    {
     "data": {
      "text/plain": [
       "'That depends on the course.  Some courses allow late enrollment, while others do not.  You need to check with the instructor or the organization offering the course.  Look for information on their website or in the course syllabus.\\n'"
      ]
     },
     "execution_count": 19,
     "metadata": {},
     "output_type": "execute_result"
    }
   ],
   "source": [
    "response.text"
   ]
  },
  {
   "cell_type": "markdown",
   "id": "40bf26bc-adcb-4de1-8b52-8d1a6e0ed4df",
   "metadata": {},
   "source": [
    "a very generic answer is generated. \n",
    "\n",
    "now we need to give answers we retrieved from the knowdledge base as context and put it in the prompt. so that our llm will generate a more specific answer. "
   ]
  },
  {
   "cell_type": "markdown",
   "id": "e31105bf-ac4c-48cc-94de-34ba208db589",
   "metadata": {},
   "source": [
    "we need to explain what we do. it is a good practice in prompt engg to give it a role."
   ]
  },
  {
   "cell_type": "code",
   "execution_count": 20,
   "id": "c213cf09-c1c9-43bb-b5ed-a5d48e7007de",
   "metadata": {},
   "outputs": [],
   "source": [
    "prompt_template = \"\"\"\n",
    "    You are a course teaching assistant. answer the QUESTION based on the CONTEXT from the FAQ database. \n",
    "    only use facts from the CONTEXT when answering. \n",
    "    if the CONTEXT doesn't contain the answer, then output NONE. \n",
    "\n",
    "    QUESTION : {question}\n",
    "\n",
    "    CONTEXT : {context}\n",
    "\"\"\".strip()"
   ]
  },
  {
   "cell_type": "code",
   "execution_count": 21,
   "id": "43754f34-a12b-40c6-8e7b-a6d4dd8ec303",
   "metadata": {},
   "outputs": [],
   "source": [
    "#This part takes the 'results' from minsearch and formats them into a single string.\n",
    "llmcontext = \"\"\n",
    "\n",
    "for doc in results:\n",
    "    llmcontext += f\"section: {doc['section']}\\n\"\n",
    "    llmcontext += f\"question: {doc['question']}\\n\"\n",
    "    llmcontext += f\"answer: {doc['text']}\\n\\n\"\n",
    "\n",
    "# f is formatted string literal. without f, then python would not recognise the curly braces {} as placeholders for variables. \n",
    "    # python uses f to recognise curly braces {} for holding variables or expressions that Python will evaluate and convert into strings at runtime.\n",
    "\n",
    "# without f, the string would be used exactly as it's written. \n",
    "    # So, instead of inserting the actual value of doc['section'], your llmcontext would literally contain: \"section: {doc['section']}\\n\""
   ]
  },
  {
   "cell_type": "code",
   "execution_count": 22,
   "id": "64661bdf-f534-41de-a02b-886f0764cac4",
   "metadata": {},
   "outputs": [],
   "source": [
    "# Prepare the final prompt using your template ---\n",
    "# This integrates the user's question 'q' and the 'context'\n",
    "\n",
    "prompt = prompt_template.format(question = q, context = llmcontext)"
   ]
  },
  {
   "cell_type": "code",
   "execution_count": 23,
   "id": "161b3fbe-7014-476f-b3b5-fa7137955dc0",
   "metadata": {
    "scrolled": true
   },
   "outputs": [
    {
     "name": "stdout",
     "output_type": "stream",
     "text": [
      "You are a course teaching assistant. answer the QUESTION based on the CONTEXT from the FAQ database. \n",
      "    only use facts from the CONTEXT when answering. \n",
      "    if the CONTEXT doesn't contain the answer, then output NONE. \n",
      "\n",
      "    QUESTION : the course has already started, can i still enroll?\n",
      "\n",
      "    CONTEXT : section: General course-related questions\n",
      "question: Course - Can I still join the course after the start date?\n",
      "answer: Yes, even if you don't register, you're still eligible to submit the homeworks.\n",
      "Be aware, however, that there will be deadlines for turning in the final projects. So don't leave everything for the last minute.\n",
      "\n",
      "section: General course-related questions\n",
      "question: Course - Can I follow the course after it finishes?\n",
      "answer: Yes, we will keep all the materials after the course finishes, so you can follow the course at your own pace after it finishes.\n",
      "You can also continue looking at the homeworks and continue preparing for the next cohort. I guess you can also start working on your final capstone project.\n",
      "\n",
      "section: General course-related questions\n",
      "question: Course - When will the course start?\n",
      "answer: The purpose of this document is to capture frequently asked technical questions\n",
      "The exact day and hour of the course will be 15th Jan 2024 at 17h00. The course will start with the first  “Office Hours'' live.1\n",
      "Subscribe to course public Google Calendar (it works from Desktop only).\n",
      "Register before the course starts using this link.\n",
      "Join the course Telegram channel with announcements.\n",
      "Don’t forget to register in DataTalks.Club's Slack and join the channel.\n",
      "\n",
      "section: General course-related questions\n",
      "question: Course - What can I do before the course starts?\n",
      "answer: You can start by installing and setting up all the dependencies and requirements:\n",
      "Google cloud account\n",
      "Google Cloud SDK\n",
      "Python 3 (installed with Anaconda)\n",
      "Terraform\n",
      "Git\n",
      "Look over the prerequisites and syllabus to see if you are comfortable with these subjects.\n",
      "\n",
      "section: General course-related questions\n",
      "question: Course - Can I get support if I take the course in the self-paced mode?\n",
      "answer: Yes, the slack channel remains open and you can ask questions there. But always sDocker containers exit code w search the channel first and second, check the FAQ (this document), most likely all your questions are already answered here.\n",
      "You can also tag the bot @ZoomcampQABot to help you conduct the search, but don’t rely on its answers 100%, it is pretty good though.\n",
      "\n",
      "section: General course-related questions\n",
      "question: How can we contribute to the course?\n",
      "answer: Star the repo! Share it with friends if you find it useful ❣️\n",
      "Create a PR if you see you can improve the text or the structure of the repository.\n",
      "\n",
      "section: General course-related questions\n",
      "question: Course - What are the prerequisites for this course?\n",
      "answer: GitHub - DataTalksClub data-engineering-zoomcamp#prerequisites\n",
      "\n",
      "section: General course-related questions\n",
      "question: Certificate - Can I follow the course in a self-paced mode and get a certificate?\n",
      "answer: No, you can only get a certificate if you finish the course with a “live” cohort. We don't award certificates for the self-paced mode. The reason is you need to peer-review capstone(s) after submitting a project. You can only peer-review projects at the time the course is running.\n",
      "\n",
      "section: General course-related questions\n",
      "question: Environment - Is Python 3.9 still the recommended version to use in 2024?\n",
      "answer: Yes, for simplicity (of troubleshooting against the recorded videos) and stability. [source]\n",
      "But Python 3.10 and 3.11 should work fine.\n",
      "\n",
      "section: General course-related questions\n",
      "question: Course - I have registered for the Data Engineering Bootcamp. When can I expect to receive the confirmation email?\n",
      "answer: You don't need it. You're accepted. You can also just start learning and submitting homework without registering. It is not checked against any registered list. Registration is just to gauge interest before the start date.\n",
      "\n",
      "\n"
     ]
    }
   ],
   "source": [
    "print(prompt)"
   ]
  },
  {
   "cell_type": "code",
   "execution_count": 24,
   "id": "b84900b6-315d-4525-9c2f-5f8339df8fa4",
   "metadata": {},
   "outputs": [
    {
     "data": {
      "text/plain": [
       "\"Yes, even if you don't register, you are still eligible to submit homeworks.  However, be aware that there are deadlines for final projects.\\n\""
      ]
     },
     "execution_count": 24,
     "metadata": {},
     "output_type": "execute_result"
    }
   ],
   "source": [
    "# Make the call to Gemini with the full prompt and generate text from gemini's response\n",
    "\n",
    "client.generate_content(contents = prompt).text"
   ]
  },
  {
   "cell_type": "markdown",
   "id": "e0e9f7c2-5505-46ac-aa1d-f93f77d8ca93",
   "metadata": {},
   "source": [
    "What we just accomplished:\n",
    "1. Took the documents that we retrieved from the knowledge base using the search engine minsearch.\n",
    "2. Turned it into context.\n",
    "3. Based on that context we built a prompt.\n",
    "4. Sent that prompt to our Gemini LLM API to generate a relevant answer instead of a generic one. "
   ]
  },
  {
   "cell_type": "markdown",
   "id": "067c13c5-9154-4139-b82c-bafba2534dd0",
   "metadata": {},
   "source": [
    "MODULE 1.5:\n",
    "\n",
    "The RAG flow cleaning and modularizing code."
   ]
  },
  {
   "cell_type": "code",
   "execution_count": 25,
   "id": "507dab92-00a4-41b5-976d-f156f234539c",
   "metadata": {},
   "outputs": [],
   "source": [
    "def search(query):\n",
    "    # boost allows to put importance manually. 1 is default. 3 is 3 times more important than any field of 1 importance.\n",
    "    boost = {'question' : 3.0, 'section' : 0.5}\n",
    "\n",
    "    # results is storing the indexed output of the search function.\n",
    "    results = index.search(\n",
    "        query = query,\n",
    "        #filter_dict = {'course' : 'data-engineering-zoomcamp'},  # filter_dict allows to apply a filter - here filtering the answers from the DE course only, ignoring the other courses in the document.\n",
    "        boost_dict = boost,\n",
    "        num_results = 10\n",
    "    )\n",
    "    \n",
    "    return results"
   ]
  },
  {
   "cell_type": "code",
   "execution_count": 26,
   "id": "14715e4f-75c4-4a0a-b1c0-359395c752da",
   "metadata": {},
   "outputs": [],
   "source": [
    "def build_prompt(query, search_results):\n",
    "    prompt_template = \"\"\"\n",
    "    You are a course teaching assistant. answer the QUESTION based on the CONTEXT from the FAQ database. \n",
    "    Only use facts from the CONTEXT when answering. If the CONTEXT doesn't contain the answer, then output NONE. \n",
    "\n",
    "    QUESTION : {question}\n",
    "\n",
    "    CONTEXT : {context}\n",
    "    \"\"\".strip()\n",
    "\n",
    "    #This part takes the 'results' from minsearch and formats them into a single string.\n",
    "    llmcontext = \"\"\n",
    "\n",
    "    for doc in search_results:\n",
    "        llmcontext += f\"section: {doc['section']}\\n\"\n",
    "        llmcontext += f\"question: {doc['question']}\\n\"\n",
    "        llmcontext += f\"answer: {doc['text']}\\n\\n\"\n",
    "    \n",
    "    # Integrating the user's question 'q' and the 'context'\n",
    "    prompt = prompt_template.format(question = query, context = llmcontext)\n",
    "\n",
    "    return prompt"
   ]
  },
  {
   "cell_type": "code",
   "execution_count": 27,
   "id": "37e40b14-aefb-43ae-82cb-977e0c21e8ee",
   "metadata": {},
   "outputs": [],
   "source": [
    "def llm(prompt):\n",
    "    client = genai.GenerativeModel('gemini-1.5-flash-latest')\n",
    "    response = client.generate_content(contents = prompt)\n",
    "\n",
    "    return response"
   ]
  },
  {
   "cell_type": "code",
   "execution_count": 28,
   "id": "5c6ab71e-6860-4ff9-a7ab-987611462a5c",
   "metadata": {
    "scrolled": true
   },
   "outputs": [],
   "source": [
    "query = 'how do i run kafka?'\n",
    "\n",
    "def rag(query):\n",
    "    \n",
    "    # search in the knowledge base (FAQ documents)\n",
    "    search_results = search(query)\n",
    "    \n",
    "    # building the prompt combining our instructions and the search_results from the knowdledge base\n",
    "    prompt = build_prompt(query, search_results)\n",
    "    \n",
    "    # generating answer through the llm using the prompt\n",
    "    answer = llm(prompt).text\n",
    "\n",
    "    return answer"
   ]
  },
  {
   "cell_type": "code",
   "execution_count": 29,
   "id": "d53e9153-f5ba-4821-8342-2d94408a8eb6",
   "metadata": {},
   "outputs": [
    {
     "data": {
      "text/plain": [
       "'To run Kafka producers, consumers, kstreams, etc., run `java -cp build/libs/<jar_name>-1.0-SNAPSHOT.jar:out src/main/java/org/example/JsonProducer.java` in the project directory.  If you encounter a `kafka.errors.NoBrokersAvailable` error, your Kafka broker Docker container may not be running.  Use `docker ps` to check, and then run `docker compose up -d` in the Docker Compose YAML file folder to start the instances.  For Python Kafka, if you have a `./build.sh: Permission denied` error, run `chmod +x build.sh` in the `/docker/spark` directory.  If you encounter a \"ModuleNotFoundError: No module named \\'kafka.vendor.six.moves\\'\" error, use `pip install kafka-python-ng` instead.\\n'"
      ]
     },
     "execution_count": 29,
     "metadata": {},
     "output_type": "execute_result"
    }
   ],
   "source": [
    "rag(query)"
   ]
  },
  {
   "cell_type": "code",
   "execution_count": 30,
   "id": "1f647315-dbb3-4ba3-a77c-980ff1bca3d0",
   "metadata": {},
   "outputs": [
    {
     "data": {
      "text/plain": [
       "\"Yes, you can still join the course even if it has already started.  You may not be able to submit all of the homework assignments, but you can still participate in the course.  To receive a certificate, you need to submit two out of three course projects and review three peers' projects by the deadline.\\n\""
      ]
     },
     "execution_count": 30,
     "metadata": {},
     "output_type": "execute_result"
    }
   ],
   "source": [
    "rag('the course has already started, can i still enroll?')"
   ]
  },
  {
   "cell_type": "markdown",
   "id": "10749a73-6c43-498e-8d80-f63366e0a97d",
   "metadata": {},
   "source": [
    "Now we have modularized all the important code as functions."
   ]
  },
  {
   "cell_type": "markdown",
   "id": "12b7c2f9-21d6-46ae-9ed6-bd1369384a4d",
   "metadata": {},
   "source": [
    "MODULE 1.6:\n",
    "\n",
    "Searching with Elastic Search in place of MinSearch."
   ]
  },
  {
   "cell_type": "code",
   "execution_count": 31,
   "id": "28ac2644-8bd9-4756-9d77-c314751c5a09",
   "metadata": {},
   "outputs": [
    {
     "data": {
      "text/plain": [
       "{'text': \"The purpose of this document is to capture frequently asked technical questions\\nThe exact day and hour of the course will be 15th Jan 2024 at 17h00. The course will start with the first  “Office Hours'' live.1\\nSubscribe to course public Google Calendar (it works from Desktop only).\\nRegister before the course starts using this link.\\nJoin the course Telegram channel with announcements.\\nDon’t forget to register in DataTalks.Club's Slack and join the channel.\",\n",
       " 'section': 'General course-related questions',\n",
       " 'question': 'Course - When will the course start?',\n",
       " 'course': 'data-engineering-zoomcamp'}"
      ]
     },
     "execution_count": 31,
     "metadata": {},
     "output_type": "execute_result"
    }
   ],
   "source": [
    "documents[0]"
   ]
  },
  {
   "cell_type": "code",
   "execution_count": 32,
   "id": "3d7b4f56-3a87-4f64-a434-a2fea5611599",
   "metadata": {},
   "outputs": [],
   "source": [
    "from elasticsearch import Elasticsearch"
   ]
  },
  {
   "cell_type": "code",
   "execution_count": 33,
   "id": "87483906-436e-41d3-a36b-47e949fe557f",
   "metadata": {},
   "outputs": [],
   "source": [
    "es_client = Elasticsearch('http://localhost:9200')"
   ]
  },
  {
   "cell_type": "code",
   "execution_count": 34,
   "id": "8450c3e0-14ae-4061-8f83-890594ba224b",
   "metadata": {
    "scrolled": true
   },
   "outputs": [
    {
     "data": {
      "text/plain": [
       "ObjectApiResponse({'name': 'a99a4215ada2', 'cluster_name': 'docker-cluster', 'cluster_uuid': 'z9PiyUlISmeztwZ8_iIaJg', 'version': {'number': '9.0.1', 'build_flavor': 'default', 'build_type': 'docker', 'build_hash': '73f7594ea00db50aa7e941e151a5b3985f01e364', 'build_date': '2025-04-30T10:07:41.393025990Z', 'build_snapshot': False, 'lucene_version': '10.1.0', 'minimum_wire_compatibility_version': '8.18.0', 'minimum_index_compatibility_version': '8.0.0'}, 'tagline': 'You Know, for Search'})"
      ]
     },
     "execution_count": 34,
     "metadata": {},
     "output_type": "execute_result"
    }
   ],
   "source": [
    "es_client.info()"
   ]
  },
  {
   "cell_type": "code",
   "execution_count": 36,
   "id": "e4f8b3dc-5517-41bf-a371-6411d84de0f9",
   "metadata": {},
   "outputs": [
    {
     "data": {
      "text/plain": [
       "ObjectApiResponse({'acknowledged': True})"
      ]
     },
     "execution_count": 36,
     "metadata": {},
     "output_type": "execute_result"
    }
   ],
   "source": [
    "# deleting the current index if you get the settings wrong. then re-index.\n",
    "es_client.indices.delete(index=index_name)"
   ]
  },
  {
   "cell_type": "code",
   "execution_count": 37,
   "id": "033792e4-bab1-4180-9b4a-449f1d49a257",
   "metadata": {
    "scrolled": true
   },
   "outputs": [
    {
     "data": {
      "text/plain": [
       "ObjectApiResponse({'acknowledged': True, 'shards_acknowledged': True, 'index': 'course-questions'})"
      ]
     },
     "execution_count": 37,
     "metadata": {},
     "output_type": "execute_result"
    }
   ],
   "source": [
    "# Creating an index in elastic search\n",
    "index_settings = {\n",
    "    \"settings\" : {\n",
    "        \"number_of_shards\" : 1,\n",
    "        \"number_of_replicas\" : 0\n",
    "    },\n",
    "    \"mappings\": {\n",
    "        \"properties\" : {\n",
    "            \"text\" : {\"type\" : \"text\"},\n",
    "            \"section\" : {\"type\" : \"text\"},\n",
    "            \"question\" : {\"type\" : \"text\"},\n",
    "            \"course\" : {\"type\" : \"keyword\"}\n",
    "        }\n",
    "    }\n",
    "}\n",
    "\n",
    "index_name = \"course-questions\"\n",
    "\n",
    "es_client.indices.create(index = index_name, body = index_settings)"
   ]
  },
  {
   "cell_type": "code",
   "execution_count": 38,
   "id": "ec3a9acb-8c4a-4f08-8ad3-1935fec76e16",
   "metadata": {},
   "outputs": [
    {
     "data": {
      "text/plain": [
       "{'text': \"The purpose of this document is to capture frequently asked technical questions\\nThe exact day and hour of the course will be 15th Jan 2024 at 17h00. The course will start with the first  “Office Hours'' live.1\\nSubscribe to course public Google Calendar (it works from Desktop only).\\nRegister before the course starts using this link.\\nJoin the course Telegram channel with announcements.\\nDon’t forget to register in DataTalks.Club's Slack and join the channel.\",\n",
       " 'section': 'General course-related questions',\n",
       " 'question': 'Course - When will the course start?',\n",
       " 'course': 'data-engineering-zoomcamp'}"
      ]
     },
     "execution_count": 38,
     "metadata": {},
     "output_type": "execute_result"
    }
   ],
   "source": [
    "documents[0]"
   ]
  },
  {
   "cell_type": "code",
   "execution_count": 39,
   "id": "24dd5c41-9453-4a2e-8be7-aa29c6b2e533",
   "metadata": {},
   "outputs": [],
   "source": [
    "#for seeing the progress bar in indexing the documents\n",
    "from tqdm.auto import tqdm"
   ]
  },
  {
   "cell_type": "code",
   "execution_count": 40,
   "id": "276351eb-03d7-4b2c-a98a-ff5ca82e88b6",
   "metadata": {},
   "outputs": [
    {
     "data": {
      "application/vnd.jupyter.widget-view+json": {
       "model_id": "3b5562715c9a4093bbe338b9843cb966",
       "version_major": 2,
       "version_minor": 0
      },
      "text/plain": [
       "  0%|          | 0/948 [00:00<?, ?it/s]"
      ]
     },
     "metadata": {},
     "output_type": "display_data"
    }
   ],
   "source": [
    "#since documents[0] is a list, we need to iterate over it for indexing all of them.\n",
    "for doc in tqdm(documents):\n",
    "    es_client.index(index = index_name, document = doc)"
   ]
  },
  {
   "cell_type": "code",
   "execution_count": 41,
   "id": "387ef81c-c8fe-42de-b29d-aee596f6d518",
   "metadata": {},
   "outputs": [],
   "source": [
    "query = \"i just discovered the course, can i still join it?\""
   ]
  },
  {
   "cell_type": "code",
   "execution_count": 42,
   "id": "61bbd751-296e-4a29-9575-52beae03ad08",
   "metadata": {},
   "outputs": [],
   "source": [
    "def elastic_search(query):\n",
    "    \n",
    "    search_query = {\n",
    "        \"size\": 5,\n",
    "        \"query\": {\n",
    "            \"bool\": {\n",
    "                \"must\": {\n",
    "                    \"multi_match\": {\n",
    "                        \"query\": query,\n",
    "                        \"fields\": [\"question^3\", \"text\", \"section\"],\n",
    "                        \"type\": \"best_fields\"\n",
    "                    }\n",
    "                },\n",
    "                \"filter\": {\n",
    "                    \"term\": {\n",
    "                        \"course\": \"data-engineering-zoomcamp\"\n",
    "                    }\n",
    "               }\n",
    "            }\n",
    "        }\n",
    "    }\n",
    "    # ctrl + / for commenting a block of code\n",
    "\n",
    "    response = es_client.search(index = index_name, body = search_query)\n",
    "\n",
    "    result_docs = []\n",
    "    \n",
    "    for hit in response['hits']['hits']:\n",
    "        result_docs.append(hit['_source'])\n",
    "\n",
    "    return result_docs"
   ]
  },
  {
   "cell_type": "code",
   "execution_count": 43,
   "id": "4dbfd28a-5bb6-4934-888d-9e550bce9aee",
   "metadata": {},
   "outputs": [],
   "source": [
    "# updating the RAG function using elastic_search in place of minsearch\n",
    "def rag(query):\n",
    "    search_results = elastic_search(query)\n",
    "    prompt = build_prompt(query, search_results)\n",
    "    answer = llm(prompt).text\n",
    "    return answer"
   ]
  },
  {
   "cell_type": "code",
   "execution_count": 44,
   "id": "4ff54c61-2478-4f9a-9441-8d5c7ce7d9c9",
   "metadata": {},
   "outputs": [
    {
     "data": {
      "text/plain": [
       "\"Yes, even if you don't register, you are still eligible to submit homework.  However, there are deadlines for final projects.\\n\""
      ]
     },
     "execution_count": 44,
     "metadata": {},
     "output_type": "execute_result"
    }
   ],
   "source": [
    "rag(query)"
   ]
  },
  {
   "cell_type": "code",
   "execution_count": 45,
   "id": "e71d496b-ff6d-4fc5-8b66-74b43da3a046",
   "metadata": {},
   "outputs": [
    {
     "data": {
      "text/plain": [
       "\"Yes, even if you don't register, you are still eligible to submit homework.  However, be aware of the deadlines for final projects.\\n\""
      ]
     },
     "execution_count": 45,
     "metadata": {},
     "output_type": "execute_result"
    }
   ],
   "source": [
    "rag(\"i just discovered the course, can i still join it?\")"
   ]
  },
  {
   "cell_type": "markdown",
   "id": "e00ada2b-0067-4295-886a-49d2147aaa7e",
   "metadata": {},
   "source": [
    "We have replaced our toy search engine (minsearch) with a proper search engine (elastic search)."
   ]
  }
 ],
 "metadata": {
  "kernelspec": {
   "display_name": "Python 3 (ipykernel)",
   "language": "python",
   "name": "python3"
  },
  "language_info": {
   "codemirror_mode": {
    "name": "ipython",
    "version": 3
   },
   "file_extension": ".py",
   "mimetype": "text/x-python",
   "name": "python",
   "nbconvert_exporter": "python",
   "pygments_lexer": "ipython3",
   "version": "3.12.1"
  }
 },
 "nbformat": 4,
 "nbformat_minor": 5
}
