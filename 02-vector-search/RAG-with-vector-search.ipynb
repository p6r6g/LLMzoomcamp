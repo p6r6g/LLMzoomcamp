{
 "cells": [
  {
   "cell_type": "markdown",
   "id": "ce2a0fc5-a930-4110-a1bc-ae95066a33b5",
   "metadata": {},
   "source": [
    "<h1>RAG + Vector Search</h1>\n",
    "\n",
    "<h3>\n",
    "    \n",
    "    1. RAG with min search as done in module 1.\n",
    "    \n",
    "    2. RAG with vector search continuing module 2. \n",
    "</h3>"
   ]
  },
  {
   "cell_type": "markdown",
   "id": "3cfe5436-e506-4f14-9f4f-6703b6b8bb24",
   "metadata": {},
   "source": [
    "<h2> Step 1 : Compiling RAG with minSearch as a setup for vector search: </h2>"
   ]
  },
  {
   "cell_type": "code",
   "execution_count": 3,
   "id": "904bb7f7-8bd2-43f5-ac4b-395326c39db7",
   "metadata": {},
   "outputs": [],
   "source": [
    "import requests\n",
    "import json\n",
    "\n",
    "docs_url = 'https://github.com/alexeygrigorev/llm-rag-workshop/raw/main/notebooks/documents.json'\n",
    "docs_response = requests.get(docs_url)\n",
    "documents_raw = docs_response.json()\n",
    "\n",
    "documents = []\n",
    "\n",
    "for i in documents_raw:\n",
    "    course_name = i['course']\n",
    "\n",
    "    for j in i['documents']:\n",
    "        j['course'] = course_name\n",
    "        documents.append(j)"
   ]
  },
  {
   "cell_type": "code",
   "execution_count": 4,
   "id": "a34a9e4d-1a79-4429-ad5d-54d2d99cae26",
   "metadata": {},
   "outputs": [
    {
     "data": {
      "text/plain": [
       "{'text': 'GitHub - DataTalksClub data-engineering-zoomcamp#prerequisites',\n",
       " 'section': 'General course-related questions',\n",
       " 'question': 'Course - What are the prerequisites for this course?',\n",
       " 'course': 'data-engineering-zoomcamp'}"
      ]
     },
     "execution_count": 4,
     "metadata": {},
     "output_type": "execute_result"
    }
   ],
   "source": [
    "documents[1]"
   ]
  },
  {
   "cell_type": "code",
   "execution_count": 5,
   "id": "fc1bb980-a864-4551-a204-7b2eac649e44",
   "metadata": {},
   "outputs": [
    {
     "data": {
      "text/plain": [
       "<minsearch.minsearch.Index at 0x7deef329bc80>"
      ]
     },
     "execution_count": 5,
     "metadata": {},
     "output_type": "execute_result"
    }
   ],
   "source": [
    "import minsearch\n",
    "\n",
    "index = minsearch.Index(\n",
    "    text_fields=[\"question\", \"text\", \"section\"],\n",
    "    keyword_fields=[\"course\"]\n",
    ")\n",
    "\n",
    "index.fit(documents)"
   ]
  },
  {
   "cell_type": "code",
   "execution_count": 6,
   "id": "43d541dd-5169-40e1-baf1-c771c13150b7",
   "metadata": {},
   "outputs": [],
   "source": [
    "import google.generativeai as genai\n",
    "\n",
    "import os\n",
    "\n",
    "api_key = os.environ.get(\"GOOGLE_API_KEY\")\n",
    "\n",
    "genai.configure(api_key = api_key)\n",
    "\n",
    "llmclient = genai.GenerativeModel('gemini-1.5-flash-latest')"
   ]
  },
  {
   "cell_type": "code",
   "execution_count": 7,
   "id": "9e013a9b-61ee-4d61-9374-ff52fe6ef008",
   "metadata": {},
   "outputs": [],
   "source": [
    "def search(query):\n",
    "    boost = {'question': 3.0, 'section': 0.5}\n",
    "\n",
    "    results = index.search(\n",
    "        query=query,\n",
    "        # filter_dict={'course': 'data-engineering-zoomcamp'},\n",
    "        boost_dict=boost,\n",
    "        num_results=5\n",
    "    )\n",
    "\n",
    "    return results"
   ]
  },
  {
   "cell_type": "code",
   "execution_count": 8,
   "id": "6658149a-51e5-494e-aae1-5df6df8e2b9c",
   "metadata": {},
   "outputs": [],
   "source": [
    "def build_prompt(query, search_results):\n",
    "    prompt_template = \"\"\"\n",
    "You're a course teaching assistant. Answer the QUESTION based on the CONTEXT from the FAQ database.\n",
    "Use only the facts from the CONTEXT when answering the QUESTION.\n",
    "\n",
    "QUESTION: {question}\n",
    "\n",
    "CONTEXT: \n",
    "{context}\n",
    "\"\"\".strip()\n",
    "\n",
    "    context = \"\"\n",
    "    \n",
    "    for doc in search_results:\n",
    "        context = context + f\"section: {doc['section']}\\nquestion: {doc['question']}\\nanswer: {doc['text']}\\n\\n\"\n",
    "    \n",
    "    prompt = prompt_template.format(question=query, context=context).strip()\n",
    "    # print(prompt)\n",
    "    return prompt"
   ]
  },
  {
   "cell_type": "code",
   "execution_count": 9,
   "id": "73e22211-d812-4199-b57a-d26181efde30",
   "metadata": {},
   "outputs": [],
   "source": [
    "def llm(prompt):\n",
    "    llmclient = genai.GenerativeModel('gemini-1.5-flash-latest')\n",
    "    response = llmclient.generate_content(contents = prompt)\n",
    "\n",
    "    return response"
   ]
  },
  {
   "cell_type": "code",
   "execution_count": 10,
   "id": "76d7d1f0-21ae-43c6-aa2e-fb388a061f47",
   "metadata": {},
   "outputs": [],
   "source": [
    "def rag(query):\n",
    "    search_results = search(query)\n",
    "    prompt = build_prompt(query, search_results)\n",
    "    answer = llm(prompt).text\n",
    "    return answer"
   ]
  },
  {
   "cell_type": "code",
   "execution_count": 11,
   "id": "af02fe8c-9496-44ea-9796-5bec6877cb80",
   "metadata": {},
   "outputs": [
    {
     "data": {
      "text/plain": [
       "'The provided text gives instructions for running Kafka producers and consumers in Java and Python.  For Java,  run `java -cp build/libs/<jar_name>-1.0-SNAPSHOT.jar:out src/main/java/org/example/JsonProducer.java` in the project directory. For Python, first create a virtual environment (`python -m venv env`), activate it (`source env/bin/activate` or `env/Scripts/activate` on Windows), install requirements (`pip install -r ../requirements.txt`), and then run the Python files within that environment.  Before running the Python files, ensure all Docker images are running.  If you encounter a  `./build.sh: Permission denied` error when running a Python Kafka script, use `chmod +x build.sh` in the `/docker/spark` directory.\\n'"
      ]
     },
     "execution_count": 11,
     "metadata": {},
     "output_type": "execute_result"
    }
   ],
   "source": [
    "rag('how do I run kafka?')"
   ]
  },
  {
   "cell_type": "code",
   "execution_count": 12,
   "id": "d8652e5b-ced3-4543-9253-de45c9d93582",
   "metadata": {},
   "outputs": [
    {
     "data": {
      "text/plain": [
       "'Yes, you can still join the course even though it has already started.  You may miss some homework assignments, but you can still participate in the course and potentially earn a certificate by completing two out of three projects and reviewing three peer projects by the deadline.\\n'"
      ]
     },
     "execution_count": 12,
     "metadata": {},
     "output_type": "execute_result"
    }
   ],
   "source": [
    "rag('the course has already started, can I still enroll?')"
   ]
  },
  {
   "cell_type": "markdown",
   "id": "d0696e10-94d4-49a6-a33f-2c6b8743e23c",
   "metadata": {},
   "source": [
    "<h2>Step 2: Setting up Vector Search to compile together with already build RAG :</h2>"
   ]
  },
  {
   "cell_type": "code",
   "execution_count": 13,
   "id": "1ebaddff-0baa-44c5-8f0c-91e3a502e2ef",
   "metadata": {},
   "outputs": [],
   "source": [
    "from qdrant_client import QdrantClient, models"
   ]
  },
  {
   "cell_type": "code",
   "execution_count": 14,
   "id": "5e7d04c2-6db2-4b2c-b71e-1d7e8842c2ec",
   "metadata": {},
   "outputs": [],
   "source": [
    "qdclient = QdrantClient(\"http://localhost:6333\")"
   ]
  },
  {
   "cell_type": "code",
   "execution_count": 15,
   "id": "7f2cb57c-fda0-40c9-b3bb-dbb01fef38b1",
   "metadata": {},
   "outputs": [],
   "source": [
    "embedding_dimensionality = 512\n",
    "model_handle = \"jinaai/jina-embeddings-v2-small-en\""
   ]
  },
  {
   "cell_type": "code",
   "execution_count": 16,
   "id": "46eaa0fd-0b36-45bd-b8c5-81be662426d3",
   "metadata": {},
   "outputs": [],
   "source": [
    "collection_name = \"zoomcamp-rag\""
   ]
  },
  {
   "cell_type": "code",
   "execution_count": 17,
   "id": "0a9efff0-480a-4296-8442-d6cd1690b142",
   "metadata": {},
   "outputs": [],
   "source": [
    "#qdclient.delete_collection(collection_name = collection_name)"
   ]
  },
  {
   "cell_type": "code",
   "execution_count": null,
   "id": "8a6d41dd-dbe8-47ab-a7fc-4350b6841162",
   "metadata": {
    "scrolled": true
   },
   "outputs": [],
   "source": [
    "# creating a collection \n",
    "qdclient.create_collection(\n",
    "    collection_name = collection_name,\n",
    "    vectors_config = models.VectorParams(\n",
    "        size = embedding_dimensionality,\n",
    "        distance = models.Distance.COSINE                  \n",
    "    )\n",
    ")"
   ]
  },
  {
   "cell_type": "code",
   "execution_count": 19,
   "id": "9305d0a3-fff0-4029-af25-5cc548dccfe9",
   "metadata": {},
   "outputs": [
    {
     "data": {
      "text/plain": [
       "UpdateResult(operation_id=4, status=<UpdateStatus.COMPLETED: 'completed'>)"
      ]
     },
     "execution_count": 19,
     "metadata": {},
     "output_type": "execute_result"
    }
   ],
   "source": [
    "# indexing the payload\n",
    "qdclient.create_payload_index (\n",
    "    collection_name = collection_name,\n",
    "    field_name = \"course\",\n",
    "    field_schema = \"keyword\"\n",
    ")"
   ]
  },
  {
   "cell_type": "code",
   "execution_count": 20,
   "id": "d0d51608-edb2-4f91-8b80-da64a8c4f14c",
   "metadata": {},
   "outputs": [],
   "source": [
    "# creating points in the vector db\n",
    "points = []\n",
    "\n",
    "for i, doc in enumerate(documents):\n",
    "    text = doc['question'] + ' ' + doc['text']\n",
    "    vector = models.Document(text = text, model = model_handle)\n",
    "    point = models.PointStruct(\n",
    "        id = i,\n",
    "        vector = vector,\n",
    "        payload = doc\n",
    "    )\n",
    "    points.append(point)"
   ]
  },
  {
   "cell_type": "code",
   "execution_count": 21,
   "id": "1dda4209-00a5-45db-8fc2-ab1ec8fa493c",
   "metadata": {
    "scrolled": true
   },
   "outputs": [
    {
     "data": {
      "text/plain": [
       "UpdateResult(operation_id=5, status=<UpdateStatus.COMPLETED: 'completed'>)"
      ]
     },
     "execution_count": 21,
     "metadata": {},
     "output_type": "execute_result"
    }
   ],
   "source": [
    "# upserting the data into the points created\n",
    "\n",
    "qdclient.upsert(\n",
    "    collection_name = collection_name,\n",
    "    points = points\n",
    ")"
   ]
  },
  {
   "cell_type": "code",
   "execution_count": 22,
   "id": "e55cbf79-fd0e-4e8e-86f4-933da42d7163",
   "metadata": {},
   "outputs": [],
   "source": [
    "# creating the vector search function\n",
    "\n",
    "def vector_search(question):\n",
    "\n",
    "    course = 'data-engineering-zoomcamp'\n",
    "    query_points = qdclient.query_points(\n",
    "        collection_name = collection_name,\n",
    "        query = models.Document(\n",
    "            text = question,\n",
    "            model = model_handle,\n",
    "        ),\n",
    "        query_filter = models.Filter(\n",
    "            must = [\n",
    "                models.FieldCondition(\n",
    "                    key = 'course',\n",
    "                    match = models.MatchValue(value = course)\n",
    "                )\n",
    "            ]\n",
    "        ),\n",
    "        limit = 5,\n",
    "        with_payload = True \n",
    "    )\n",
    "\n",
    "    results = []\n",
    "\n",
    "    for point in query_points.points:\n",
    "        results.append(point.payload)\n",
    "\n",
    "    return results"
   ]
  },
  {
   "cell_type": "code",
   "execution_count": 23,
   "id": "a9704249-3274-4ed9-ade4-4e38e1ad0a64",
   "metadata": {},
   "outputs": [],
   "source": [
    "# encapsulating all into the RAG function\n",
    "\n",
    "def rag(query):\n",
    "    search_results = vector_search(query)\n",
    "    prompt = build_prompt(query, search_results)\n",
    "    answer = llm(prompt).text\n",
    "    return answer"
   ]
  },
  {
   "cell_type": "code",
   "execution_count": 24,
   "id": "807e33ef-341a-4ea7-959c-77af0fd04a6c",
   "metadata": {},
   "outputs": [
    {
     "data": {
      "text/plain": [
       "'The provided text describes running Kafka producers and consumers using Java and Python, and troubleshooting related issues.  For Java, you run  `java -cp build/libs/<jar_name>-1.0-SNAPSHOT.jar:out src/main/java/org/example/JsonProducer.java` from the project directory.  For Python,  you need to create a virtual environment (`python -m venv env`), activate it (`source env/bin/activate`), install requirements (`pip install -r ../requirements.txt`), and then run your Python scripts. Ensure your Kafka broker Docker container is running (`docker ps`; `docker compose up -d`) if you encounter `kafka.errors.NoBrokersAvailable`.  Correct server URLs and cluster keys/secrets in your code are also crucial for successful execution.\\n'"
      ]
     },
     "execution_count": 24,
     "metadata": {},
     "output_type": "execute_result"
    }
   ],
   "source": [
    "rag(\"how do i run kafka?\")"
   ]
  },
  {
   "cell_type": "markdown",
   "id": "8ef9e44c-c9b0-4488-a672-bda5fcaddee5",
   "metadata": {},
   "source": [
    "<h3> \n",
    "Conclusion : Vector Search has been integrated with the RAG. Next, Hybrid Search - a mix of keyword search and vector(semantic) search.\n",
    "</h3>"
   ]
  }
 ],
 "metadata": {
  "kernelspec": {
   "display_name": "Python 3 (ipykernel)",
   "language": "python",
   "name": "python3"
  },
  "language_info": {
   "codemirror_mode": {
    "name": "ipython",
    "version": 3
   },
   "file_extension": ".py",
   "mimetype": "text/x-python",
   "name": "python",
   "nbconvert_exporter": "python",
   "pygments_lexer": "ipython3",
   "version": "3.12.1"
  }
 },
 "nbformat": 4,
 "nbformat_minor": 5
}
