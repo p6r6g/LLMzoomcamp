{
 "cells": [
  {
   "cell_type": "markdown",
   "id": "6aa9c8d1-28c4-4f32-b894-f0e63078efc7",
   "metadata": {},
   "source": [
    "Vector Search with Qdrant :\n",
    "\n",
    "Vector Search:\n",
    "Vector search replaces exact keyword matching with semantic similarity, enabling retrieval based on meaning.\n",
    "It excels in searching through diverse data types like text, images, audio, video, and code, even when phrasing or formats differ.\n",
    "It does that my converting words into number(vector embeddings), and the distance between two vectors in a 3D space gives them the meaning - words related to each other based on similarity and context are closer to each other.  It recognizes patterns and relationships between concepts, enabling search systems to retrieve the most relevant content, even when the phrasing differs, terminology varies, or no explicit keywords exist.\n",
    "\n",
    "Qdrant:\n",
    "Qdrant is a high-performance, open-source vector search engine built in Rust for scalable, production-grade applications.\n",
    "It offers advanced vector search capabilities beyond basic similarity, staying aligned with modern AI search trends.\n",
    "\n",
    "\n",
    "TLDR: Vector Search is excellent for semantic search to capture context and meaning behind words (and unstructured data) by relating language with maths(vectors and geometry), unlike syntactic search where strings are compared. and Qdrant is a vector search engine.\n"
   ]
  },
  {
   "cell_type": "markdown",
   "id": "3b6f75b5-a79a-4e15-8b0d-ea151a24d6aa",
   "metadata": {},
   "source": [
    "running qdrant in a docker container (in github codespace):\n",
    "run in terminal:\n",
    "<!-- \n",
    "docker pull qdrant/qdrant\n",
    "\n",
    "docker run -p 6333:6333 -p 6334:6334 \\\n",
    "   -v \"$(pwd)/qdrant_storage:/qdrant/storage:z\" \\\n",
    "   qdrant/qdrant -->"
   ]
  },
  {
   "cell_type": "code",
   "execution_count": 1,
   "id": "264e0686-0073-4b9e-aae3-2514b9973c5e",
   "metadata": {},
   "outputs": [],
   "source": [
    "# qdrant-client package for python and fastembed for optimized embedding (data vectorization) designed for qdrant.\n",
    "\n",
    "!python -m pip install -q \"qdrant-client[fastembed]>=1.14.2\""
   ]
  },
  {
   "cell_type": "code",
   "execution_count": null,
   "id": "93cc05aa-50c8-4dc1-9ede-94efe5a9fb10",
   "metadata": {},
   "outputs": [],
   "source": []
  }
 ],
 "metadata": {
  "kernelspec": {
   "display_name": "Python 3 (ipykernel)",
   "language": "python",
   "name": "python3"
  },
  "language_info": {
   "codemirror_mode": {
    "name": "ipython",
    "version": 3
   },
   "file_extension": ".py",
   "mimetype": "text/x-python",
   "name": "python",
   "nbconvert_exporter": "python",
   "pygments_lexer": "ipython3",
   "version": "3.12.1"
  }
 },
 "nbformat": 4,
 "nbformat_minor": 5
}
